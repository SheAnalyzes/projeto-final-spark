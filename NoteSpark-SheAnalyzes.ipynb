{
  "cells": [
    {
      "cell_type": "markdown",
      "source": [
        "# Code Structure:\r\n",
        "## - start spark session\r\n",
        "## - classes\r\n",
        "## - main"
      ],
      "metadata": {
        "nteract": {
          "transient": {
            "deleting": false
          }
        }
      }
    },
    {
      "cell_type": "markdown",
      "source": [
        "# Imports"
      ],
      "metadata": {
        "nteract": {
          "transient": {
            "deleting": false
          }
        }
      }
    },
    {
      "cell_type": "code",
      "source": [
        "from pyspark.sql import SparkSession, Row\r\n",
        "from pyspark.sql.functions import col, lower, trim, regexp_replace, to_timestamp, round,lag, unix_timestamp, when\r\n",
        "from pyspark.sql.types import FloatType\r\n",
        "from pyspark.sql.utils import AnalysisException\r\n",
        "from pyspark.sql.window import Window"
      ],
      "outputs": [
        {
          "output_type": "display_data",
          "data": {
            "application/vnd.livy.statement-meta+json": {
              "spark_pool": "pool",
              "session_id": "0",
              "statement_id": 78,
              "state": "finished",
              "livy_statement_state": "available",
              "queued_time": "2023-03-16T00:44:18.8515685Z",
              "session_start_time": null,
              "execution_start_time": "2023-03-16T00:44:18.9877931Z",
              "execution_finish_time": "2023-03-16T00:44:19.152718Z",
              "spark_jobs": null,
              "parent_msg_id": "2ccd3e96-9f35-4a23-8a77-b735ec55d57b"
            },
            "text/plain": "StatementMeta(pool, 0, 78, Finished, Available)"
          },
          "metadata": {}
        }
      ],
      "execution_count": 78,
      "metadata": {
        "jupyter": {
          "source_hidden": false,
          "outputs_hidden": false
        },
        "nteract": {
          "transient": {
            "deleting": false
          }
        }
      }
    },
    {
      "cell_type": "markdown",
      "source": [
        "# Start spark session"
      ],
      "metadata": {
        "nteract": {
          "transient": {
            "deleting": false
          }
        }
      }
    },
    {
      "cell_type": "code",
      "source": [
        "spark=SparkSession.builder.appName(\"Transform\").getOrCreate()"
      ],
      "outputs": [
        {
          "output_type": "display_data",
          "data": {
            "application/vnd.livy.statement-meta+json": {
              "spark_pool": "pool",
              "session_id": "0",
              "statement_id": 79,
              "state": "finished",
              "livy_statement_state": "available",
              "queued_time": "2023-03-16T00:44:19.0065664Z",
              "session_start_time": null,
              "execution_start_time": "2023-03-16T00:44:19.3023079Z",
              "execution_finish_time": "2023-03-16T00:44:19.4624319Z",
              "spark_jobs": null,
              "parent_msg_id": "d6771a56-ed0f-46ff-b5ec-3133932e2e25"
            },
            "text/plain": "StatementMeta(pool, 0, 79, Finished, Available)"
          },
          "metadata": {}
        }
      ],
      "execution_count": 79,
      "metadata": {
        "jupyter": {
          "source_hidden": false,
          "outputs_hidden": false
        },
        "nteract": {
          "transient": {
            "deleting": false
          }
        }
      }
    },
    {
      "cell_type": "markdown",
      "source": [
        "# Cleaner Dataframe Class\r\n",
        "The Dataframe Cleaner class provides methods to clean and transform dataframes and assists the CsvDataframe class."
      ],
      "metadata": {
        "nteract": {
          "transient": {
            "deleting": false
          }
        }
      }
    },
    {
      "cell_type": "code",
      "source": [
        "class DataframeCleaner:\r\n",
        "    '''\"The DataframeCleaner class provides methods to clean and transform dataframes and assists the CsvDataframe class.'''\r\n",
        "    df = None\r\n",
        "\r\n",
        "    def __init__ (self,df):\r\n",
        "        self.df = df\r\n",
        "\r\n",
        "    def drop_empty_rows(self):\r\n",
        "        \"\"\"This method removes empty rows from the dataframe.\"\"\"\r\n",
        "\r\n",
        "        self.df.dropna(how='all', subset=self.df.columns)\r\n",
        "\r\n",
        "    def drop_duplicate(self):\r\n",
        "        '''This method removes all the duplicate rows from the dataframe.'''\r\n",
        "\r\n",
        "        self.df.dropDuplicates()\r\n",
        "\r\n",
        "    def drop_empty_valor(self, col_name):\r\n",
        "        '''This method removes all the rows that have empty values in the column 'valor'.'''\r\n",
        "\r\n",
        "        self.df.filter(col(col_name).isNotNull())\r\n",
        "    \r\n",
        "    def format_lowercase(self, column_name):\r\n",
        "        '''This method formats a column in a Spark DataFrame to the lower case format.'''\r\n",
        "\r\n",
        "        self.df = self.df.withColumn(column_name, lower(col(column_name)))\r\n",
        "    \r\n",
        "    def remove_extra_space(self,column_name):\r\n",
        "        '''This method removes the extra empty space inside the column.'''\r\n",
        "\r\n",
        "        self.df = self.df.withColumn(column_name, trim(regexp_replace(col(column_name), \"\\s+\", \" \")))\r\n",
        "     \r\n",
        "    def remove_accents(self, column_name):\r\n",
        "        '''This method removes the accent in some rows of the \"column_name\".'''\r\n",
        "\r\n",
        "        self.df = self.df.withColumn(column_name, regexp_replace(column_name, \"[áàâãä]\", \"a\"))\r\n",
        "        self.df = self.df.withColumn(column_name, regexp_replace(column_name, \"[éèêë]\", \"e\"))\r\n",
        "        self.df = self.df.withColumn(column_name, regexp_replace(column_name, \"[íìîï]\", \"i\"))\r\n",
        "        self.df = self.df.withColumn(column_name, regexp_replace(column_name, \"[óòôõö]\", \"o\"))\r\n",
        "        self.df = self.df.withColumn(column_name, regexp_replace(column_name, \"[úùûü]\", \"u\"))\r\n",
        "        self.df = self.df.withColumn(column_name, regexp_replace(column_name, \"[ç]\", \"c\"))\r\n",
        "\r\n"
      ],
      "outputs": [
        {
          "output_type": "display_data",
          "data": {
            "application/vnd.livy.statement-meta+json": {
              "spark_pool": "pool",
              "session_id": "0",
              "statement_id": 80,
              "state": "finished",
              "livy_statement_state": "available",
              "queued_time": "2023-03-16T00:44:19.1787876Z",
              "session_start_time": null,
              "execution_start_time": "2023-03-16T00:44:19.6163592Z",
              "execution_finish_time": "2023-03-16T00:44:19.7777991Z",
              "spark_jobs": null,
              "parent_msg_id": "1f90415a-a843-4479-8fa0-38672dae27b2"
            },
            "text/plain": "StatementMeta(pool, 0, 80, Finished, Available)"
          },
          "metadata": {}
        }
      ],
      "execution_count": 80,
      "metadata": {
        "jupyter": {
          "source_hidden": false,
          "outputs_hidden": false
        },
        "nteract": {
          "transient": {
            "deleting": false
          }
        }
      }
    },
    {
      "cell_type": "markdown",
      "source": [
        "# Dataframe Class\r\n",
        "The Dataframe class aims to provide methods capable of reading CSV files, generating dataframes, and modifying them."
      ],
      "metadata": {
        "nteract": {
          "transient": {
            "deleting": false
          }
        }
      }
    },
    {
      "cell_type": "code",
      "source": [
        "class CsvDataframe():\r\n",
        "    '''The Dataframe class aims to provide methods capable of reading CSV files, generating dataframes, and modifying them.'''\r\n",
        "    df = None\r\n",
        "\r\n",
        "    def __init__(self, csv_path, category):\r\n",
        "        self.csv_path = csv_path\r\n",
        "        self.category = category\r\n",
        "\r\n",
        "        \r\n",
        "    def _add_header(self):\r\n",
        "        '''The \"_add_header\" method performs a well-defined process to add the correct header to the dataframe.'''\r\n",
        "\r\n",
        "        # Finding the row that will be the header and saving it to a dataframe.\r\n",
        "        header = self.raw_df.filter(col(\"_c0\") == \"id\").limit(1)\r\n",
        "\r\n",
        "        # Excluding from the raw dataframe the row that contains its future header. \r\n",
        "        filtered_df = self.raw_df.where((col(\"_c0\") != \"id\"))\r\n",
        "\r\n",
        "        # Generating a dataframe with the correct header.\r\n",
        "        header_columns = header.first()\r\n",
        "        self.df = filtered_df.toDF(*header_columns)\r\n",
        "    \r\n",
        "    def _fix_schema(self):\r\n",
        "        '''The \"_fix_schema\" method aims to create a series of actions that, at the end, fixes the schematype of the dataframe generated from any CSV file.'''\r\n",
        "        \r\n",
        "        first_row = self.df.first()\r\n",
        "        row = Row(*first_row)\r\n",
        "        schema = self.df.schema\r\n",
        "\r\n",
        "\r\n",
        "        for value in first_row:\r\n",
        "\r\n",
        "            # Get the position of the value in the row's list of values\r\n",
        "            value_position = row.index(value)\r\n",
        "\r\n",
        "            # Get the column name from the position\r\n",
        "            column_name = schema[value_position].name\r\n",
        "            \r\n",
        "            # Check if the column type need to be converted to datatime \r\n",
        "            if isinstance(value, str) and ':' in value:\r\n",
        "                self.df = self.df.withColumn(column_name, to_timestamp(col(column_name), \"yyyy-MM-dd HH:mm:ss Z\"))\r\n",
        "             \r\n",
        "            # Check if the column type needs to be converted to float and limit to 2 decimal places\r\n",
        "            elif isinstance(value, str) and '.' in value and '@' not in value:\r\n",
        "                self.df = self.df.withColumn(column_name, round(col(column_name).cast(FloatType()), 2))\r\n",
        "            \r\n",
        "    def read_csv(self, spark):\r\n",
        "        '''The \"read_csv\" method reads a folder that contains CSV files, initially generating a dataframe without header and then returning a dataframe with it.'''\r\n",
        "\r\n",
        "        self.complete_path = self.csv_path + self.category + '.csv'\r\n",
        "\r\n",
        "        try:\r\n",
        "            self.raw_df = spark.read.csv(self.complete_path, sep=\";\", header=False, inferSchema=True)\r\n",
        "        except AnalysisException:\r\n",
        "            print('The path does not exist. Please, insert a valid path.\\nThe \"category\" passed might not be \"clients\", \"transaction_in\" or \"transaction_out\" or similar.')\r\n",
        "            return 0\r\n",
        "            \r\n",
        "        # Fix and clean the dataframe\r\n",
        "        self._add_header()\r\n",
        "        self._fix_schema()\r\n",
        "    \r\n",
        "    def clean_data(self):\r\n",
        "        '''This method cleans the dataframe based in a collection of methods of DataframeUtils class.'''\r\n",
        "        \r\n",
        "        cleaner_df_obj = DataframeCleaner(self.df)\r\n",
        "        cleaner_df_obj.drop_empty_rows()\r\n",
        "        cleaner_df_obj.drop_duplicate()\r\n",
        "\r\n",
        "        # Only drop empty \"valor\" columns of transactions\r\n",
        "        if self.category != 'clients*':\r\n",
        "            cleaner_df_obj.drop_empty_valor(\"valor\")\r\n",
        "            self.df = cleaner_df_obj.df\r\n",
        "        else:\r\n",
        "            cleaner_df_obj.format_lowercase('nome')\r\n",
        "            cleaner_df_obj.remove_extra_space('nome')\r\n",
        "            cleaner_df_obj.remove_accents('nome')\r\n",
        "            self.df = cleaner_df_obj.df\r\n",
        "        \r\n",
        "        return cleaner_df_obj.df\r\n",
        "    \r\n",
        "    def save_csv_file(self, file_name, csv_final_path):\r\n",
        "        '''This method saves the df in a CSV file.'''\r\n",
        "\r\n",
        "        self.df.coalesce(1).write.mode('overwrite').option(\"header\", \"true\").csv(csv_final_path + file_name)\r\n",
        "\r\n",
        "    def rename_column (self, old_name, new_name):\r\n",
        "        '''This method aims to rename a specific column.'''\r\n",
        "\r\n",
        "        self.df = self.df.withColumnRenamed(old_name, new_name)\r\n"
      ],
      "outputs": [
        {
          "output_type": "display_data",
          "data": {
            "application/vnd.livy.statement-meta+json": {
              "spark_pool": "pool",
              "session_id": "0",
              "statement_id": 81,
              "state": "finished",
              "livy_statement_state": "available",
              "queued_time": "2023-03-16T00:44:19.3239146Z",
              "session_start_time": null,
              "execution_start_time": "2023-03-16T00:44:19.9372109Z",
              "execution_finish_time": "2023-03-16T00:44:20.1018016Z",
              "spark_jobs": null,
              "parent_msg_id": "6353ff53-e3e1-44fa-a157-9dc342446cc6"
            },
            "text/plain": "StatementMeta(pool, 0, 81, Finished, Available)"
          },
          "metadata": {}
        }
      ],
      "execution_count": 81,
      "metadata": {
        "jupyter": {
          "source_hidden": false,
          "outputs_hidden": false
        },
        "nteract": {
          "transient": {
            "deleting": false
          }
        }
      }
    },
    {
      "cell_type": "markdown",
      "source": [
        "# Class Fraud Utils"
      ],
      "metadata": {
        "nteract": {
          "transient": {
            "deleting": false
          }
        }
      }
    },
    {
      "cell_type": "code",
      "source": [
        "class FraudUtils:\r\n",
        "    '''The FraudUtils class provides methods to modify dataframes that assist the Fraud class in creating fraud-related dataframes.'''\r\n",
        "    frauds_df = None\r\n",
        "\r\n",
        "    def __init__ (self, frauds_df):\r\n",
        "        self.frauds_df = frauds_df\r\n",
        "\r\n",
        "    def join_csv(self,df_transactions):\r\n",
        "        '''The \"join_csv\" method aims to merge two dataframes and filter the final dataframe to only include specific columns.'''\r\n",
        "\r\n",
        "        self.frauds_df = self.frauds_df.join(df_transactions, [\"id\", \"cliente_id\", \"valor\", \"data_transacao\"], \"left_outer\")\r\n",
        "\r\n",
        "        self.frauds_df = self.frauds_df.select(col(\"id\"), col(\"cliente_id\"), col(\"valor\"), col(\"data_transacao\"), col(\"fraude\"))\r\n",
        "\r\n",
        "    def add_category_column(self,column_name, condition_column):\r\n",
        "        '''This method aims to add a column inside the dataframe based in some \"when\" condition.'''\r\n",
        "\r\n",
        "        self.frauds_df = self.frauds_df.withColumn(column_name, when(col(condition_column) > 0, 'entrada').otherwise('saida'))"
      ],
      "outputs": [
        {
          "output_type": "display_data",
          "data": {
            "application/vnd.livy.statement-meta+json": {
              "spark_pool": "pool",
              "session_id": "0",
              "statement_id": 82,
              "state": "finished",
              "livy_statement_state": "available",
              "queued_time": "2023-03-16T00:44:19.8918208Z",
              "session_start_time": null,
              "execution_start_time": "2023-03-16T00:44:20.2387882Z",
              "execution_finish_time": "2023-03-16T00:44:20.4057578Z",
              "spark_jobs": null,
              "parent_msg_id": "55fcb9e5-e6e6-4073-a1c5-cb419536e4cc"
            },
            "text/plain": "StatementMeta(pool, 0, 82, Finished, Available)"
          },
          "metadata": {}
        }
      ],
      "execution_count": 82,
      "metadata": {
        "jupyter": {
          "source_hidden": false,
          "outputs_hidden": false
        },
        "nteract": {
          "transient": {
            "deleting": false
          }
        }
      }
    },
    {
      "cell_type": "markdown",
      "source": [
        "# Class Frauds"
      ],
      "metadata": {
        "nteract": {
          "transient": {
            "deleting": false
          }
        }
      }
    },
    {
      "cell_type": "code",
      "source": [
        "class Fraud():\r\n",
        "    '''The Fraud class aims to provide different methods capable of detecting and analyzing potential frauds in banking transaction dataframes.'''\r\n",
        "    frauds_df = None\r\n",
        "\r\n",
        "    def __init__ (self, df_transactions):\r\n",
        "        self.df_transactions = df_transactions\r\n",
        "\r\n",
        "    def _identify_frauds(self):\r\n",
        "        '''This method identifies frauds and creates an extra column in the original dataframe.'''\r\n",
        "\r\n",
        "        # Partitioning the transactions df (in and out) by the \"cliente_id\" column and ordering by \"data\".\r\n",
        "        windowSpec  = Window.partitionBy(\"cliente_id\").orderBy(\"data_transacao\")\r\n",
        "\r\n",
        "        # Using the lag function to create a new column (based on the \"data\" column) with the previous row information\r\n",
        "        self.fraud_df = self.df_transactions.withColumn(\"data_anterior\",lag(\"data_transacao\",1).over(windowSpec))\r\n",
        "\r\n",
        "        # Transforming dates (\"data\" and \"data_anterior\") to seconds\r\n",
        "        self.fraud_df = self.fraud_df\\\r\n",
        "            .withColumn(\"data_seg\", unix_timestamp(\"data_transacao\", \"yyyy-MM-dd HH:mm:ss Z\"))\\\r\n",
        "            .withColumn(\"data_anterior_seg\", unix_timestamp(\"data_anterior\", \"yyyy-MM-dd HH:mm:ss Z\"))\r\n",
        "\r\n",
        "        # Calculating the difference between the previous rows\r\n",
        "        self.fraud_df = self.fraud_df.withColumn(\"diff\", col(\"data_seg\") - col(\"data_anterior_seg\"))\r\n",
        "\r\n",
        "        # Creating a column that determines if there was fraud\r\n",
        "        self.fraud_df = self.fraud_df.withColumn(\"fraude\", when(col(\"diff\") < 120, '1').otherwise('0'))\r\n",
        "\r\n",
        "    def create_fraud_df(self):\r\n",
        "        '''This method generates dataframes that include columns signaling the presence or absence of fraud suspicions.'''\r\n",
        "\r\n",
        "        self._identify_frauds()\r\n",
        "        column_name = 'tipo'\r\n",
        "        condition_column = 'valor'\r\n",
        "\r\n",
        "        self.fraud_utils_obj = FraudUtils(self.fraud_df)\r\n",
        "        self.fraud_utils_obj.join_csv(self.df_transactions)\r\n",
        "        self.fraud_utils_obj.add_category_column(column_name, condition_column)\r\n",
        "\r\n",
        "        return self.fraud_utils_obj.frauds_df"
      ],
      "outputs": [
        {
          "output_type": "display_data",
          "data": {
            "application/vnd.livy.statement-meta+json": {
              "spark_pool": "pool",
              "session_id": "0",
              "statement_id": 83,
              "state": "finished",
              "livy_statement_state": "available",
              "queued_time": "2023-03-16T00:44:20.7803846Z",
              "session_start_time": null,
              "execution_start_time": "2023-03-16T00:44:20.9005525Z",
              "execution_finish_time": "2023-03-16T00:44:21.1028806Z",
              "spark_jobs": null,
              "parent_msg_id": "8420650f-5ff6-4c39-973d-936f82800f3b"
            },
            "text/plain": "StatementMeta(pool, 0, 83, Finished, Available)"
          },
          "metadata": {}
        }
      ],
      "execution_count": 83,
      "metadata": {
        "jupyter": {
          "source_hidden": false,
          "outputs_hidden": false
        },
        "nteract": {
          "transient": {
            "deleting": false
          }
        }
      }
    },
    {
      "cell_type": "markdown",
      "source": [
        "# Class Database"
      ],
      "metadata": {
        "nteract": {
          "transient": {
            "deleting": false
          }
        }
      }
    },
    {
      "cell_type": "code",
      "source": [
        "class Database():\r\n",
        "    '''\r\n",
        "    The Database class aims to perform actions that manipulate tables and data from a specific database.\r\n",
        "    Attention: To perform these actions, you need to connect through JDBC.\r\n",
        "    '''\r\n",
        "\r\n",
        "    def __init__(self, *, jdbc_url, database, username, password, driver):\r\n",
        "        self.jdbc_url = jdbc_url\r\n",
        "        self.database = database\r\n",
        "        self.username = username\r\n",
        "        self.password = password\r\n",
        "        self.driver = driver\r\n",
        "\r\n",
        "    def create_table(self, df, table_name):\r\n",
        "        '''The \"create_table\" method aims to create a table in the specified database from an already defined dataframe.'''\r\n",
        "        \r\n",
        "        self.df = df\r\n",
        "        self.table_name = table_name\r\n",
        "\r\n",
        "        \r\n",
        "        # Tries to create a table in the specified database.\r\n",
        "        df.write \\\r\n",
        "            .format(\"jdbc\") \\\r\n",
        "            .option(\"url\", self.jdbc_url) \\\r\n",
        "            .option(\"database\", self.database)\\\r\n",
        "            .option(\"dbtable\", self.table_name) \\\r\n",
        "            .option(\"user\", self.username) \\\r\n",
        "            .option(\"password\", self.password) \\\r\n",
        "            .option(\"driver\", self.driver) \\\r\n",
        "            .option(\"batchsize\", 100) \\\r\n",
        "            .mode(\"overwrite\") \\\r\n",
        "            .save()"
      ],
      "outputs": [
        {
          "output_type": "display_data",
          "data": {
            "application/vnd.livy.statement-meta+json": {
              "spark_pool": "pool",
              "session_id": "0",
              "statement_id": 84,
              "state": "finished",
              "livy_statement_state": "available",
              "queued_time": "2023-03-16T00:44:22.7601721Z",
              "session_start_time": null,
              "execution_start_time": "2023-03-16T00:44:22.9278481Z",
              "execution_finish_time": "2023-03-16T00:44:23.0875213Z",
              "spark_jobs": null,
              "parent_msg_id": "84ea7539-7ad6-4255-9049-759cbdd8472f"
            },
            "text/plain": "StatementMeta(pool, 0, 84, Finished, Available)"
          },
          "metadata": {}
        }
      ],
      "execution_count": 84,
      "metadata": {
        "jupyter": {
          "source_hidden": false,
          "outputs_hidden": false
        },
        "nteract": {
          "transient": {
            "deleting": false
          }
        }
      }
    },
    {
      "cell_type": "markdown",
      "source": [
        "# Create dataframes based in our relational model"
      ],
      "metadata": {
        "nteract": {
          "transient": {
            "deleting": false
          }
        }
      }
    },
    {
      "cell_type": "code",
      "source": [
        "csv_path = 'abfss://container@sheanalyzessdatalake.dfs.core.windows.net/dados_brutos/'\r\n",
        "\r\n",
        "clients_df_obj = CsvDataframe(csv_path,'clients*')\r\n",
        "clients_df_obj.read_csv(spark)\r\n",
        "transactions_df_obj = CsvDataframe(csv_path,'transaction*')\r\n",
        "transactions_df_obj.read_csv(spark)"
      ],
      "outputs": [
        {
          "output_type": "display_data",
          "data": {
            "application/vnd.livy.statement-meta+json": {
              "spark_pool": "pool",
              "session_id": "0",
              "statement_id": 85,
              "state": "finished",
              "livy_statement_state": "available",
              "queued_time": "2023-03-16T00:44:23.8107764Z",
              "session_start_time": null,
              "execution_start_time": "2023-03-16T00:44:23.9817673Z",
              "execution_finish_time": "2023-03-16T00:44:26.7782195Z",
              "spark_jobs": null,
              "parent_msg_id": "9d8756c1-cd1a-488b-abfb-282c794a92d1"
            },
            "text/plain": "StatementMeta(pool, 0, 85, Finished, Available)"
          },
          "metadata": {}
        }
      ],
      "execution_count": 85,
      "metadata": {
        "jupyter": {
          "source_hidden": false,
          "outputs_hidden": false
        },
        "nteract": {
          "transient": {
            "deleting": false
          }
        }
      }
    },
    {
      "cell_type": "markdown",
      "source": [
        "# Clean Dataframes"
      ],
      "metadata": {
        "nteract": {
          "transient": {
            "deleting": false
          }
        }
      }
    },
    {
      "cell_type": "code",
      "source": [
        "clients_df = clients_df_obj.clean_data()\r\n",
        "clients_df.show()\r\n",
        "transactions_df_obj.rename_column('data','data_transacao')\r\n",
        "transactions_df = transactions_df_obj.clean_data()"
      ],
      "outputs": [
        {
          "output_type": "display_data",
          "data": {
            "application/vnd.livy.statement-meta+json": {
              "spark_pool": "pool",
              "session_id": "0",
              "statement_id": 86,
              "state": "finished",
              "livy_statement_state": "available",
              "queued_time": "2023-03-16T00:44:24.9221269Z",
              "session_start_time": null,
              "execution_start_time": "2023-03-16T00:44:26.9089248Z",
              "execution_finish_time": "2023-03-16T00:44:27.4510817Z",
              "spark_jobs": null,
              "parent_msg_id": "945bd447-2e77-4ba5-86b8-b9ef64afdbf8"
            },
            "text/plain": "StatementMeta(pool, 0, 86, Finished, Available)"
          },
          "metadata": {}
        },
        {
          "output_type": "stream",
          "name": "stdout",
          "text": [
            "+---+--------------------+--------------------+-------------------+----------------+\n| id|                nome|               email|      data_cadastro|        telefone|\n+---+--------------------+--------------------+-------------------+----------------+\n| 55|   edmilson da silva|edmilson-da-silva...|2019-08-30 00:54:33|+55(22)2922-2626|\n| 78|maxson barros do ...|maxson-barros-do-...|2019-09-10 02:03:42|+55(22)2126-2529|\n| 61| bruno cesar e silva|bruno-cesar-e-sil...|2019-08-30 01:05:21|+55(23)2528-2729|\n|106|dernival passos d...|dernival-passos-d...|2019-09-27 02:40:14|+55(29)2927-2322|\n|107| jose rubian de goes|jose-rubian-de-go...|2019-09-28 13:09:43|+55(22)2023-2620|\n|108|angelica dos sant...|angelica-dos-sant...|2019-09-28 14:48:16|+55(20)2521-3030|\n|109|          alanderson|alanderson_109@gm...|2019-09-29 00:15:12|+55(22)2323-2426|\n|142|      silvio gabriel|silvio-gabriel_14...|2019-10-04 12:47:21|+55(22)3026-2123|\n|144|jose carlos da si...|jose-carlos-da-si...|2019-10-06 14:24:26|+55(21)2921-2127|\n|145|dante hugo ayres ...|dante-hugo-ayres-...|2019-10-06 16:36:49|+55(20)2421-2129|\n|146|felipe emanuel da...|felipe-emanuel-da...|2019-10-06 18:24:39|+55(25)2020-2820|\n| 88|anderson albuquerque|anderson-albuquer...|2019-09-14 20:52:26|+55(29)2527-2125|\n|159|               arena| arena_159@gmail.com|2019-10-31 18:56:40|+55(28)2127-2623|\n|150|                jean|  jean_150@gmail.com|2019-10-13 20:50:27|+55(30)2028-2130|\n|248|              daniel|daniel_248@gmail.com|2019-12-12 23:54:51|+55(22)2328-2725|\n|156|     ronaldo rabello|ronaldo-rabello_1...|2019-10-25 17:26:36|+55(25)3026-2124|\n|157|    alexandre santos|alexandre-santos_...|2019-10-26 16:48:48|+55(27)2825-2325|\n|160|genival rufino ne...|genival-rufino-ne...|2019-10-31 20:13:50|+55(25)2225-2922|\n|152|             bandeja|bandeja_152@gmail...|2019-10-16 13:03:12|+55(24)2727-2527|\n|153|dante hugo branda...|dante-hugo-branda...|2019-10-17 02:09:46|+55(30)2430-2227|\n+---+--------------------+--------------------+-------------------+----------------+\nonly showing top 20 rows\n\n"
          ]
        }
      ],
      "execution_count": 86,
      "metadata": {
        "jupyter": {
          "source_hidden": false,
          "outputs_hidden": false
        },
        "nteract": {
          "transient": {
            "deleting": false
          }
        }
      }
    },
    {
      "cell_type": "markdown",
      "source": [
        "# Saving in a cleaner CSV"
      ],
      "metadata": {
        "nteract": {
          "transient": {
            "deleting": false
          }
        }
      }
    },
    {
      "cell_type": "code",
      "source": [
        "csv_final_path_transac = 'abfss://container@sheanalyzessdatalake.dfs.core.windows.net/dados_finais/'\r\n",
        "csv_final_path_client = 'abfss://container@sheanalyzessdatalake.dfs.core.windows.net/dados_finais/'\r\n",
        "transactions_df_obj.save_csv_file('clean-transaction',csv_final_path_transac)\r\n",
        "clients_df_obj.save_csv_file('clean-clients', csv_final_path_client)"
      ],
      "outputs": [
        {
          "output_type": "display_data",
          "data": {
            "application/vnd.livy.statement-meta+json": {
              "spark_pool": "pool",
              "session_id": "0",
              "statement_id": 87,
              "state": "finished",
              "livy_statement_state": "available",
              "queued_time": "2023-03-16T00:44:25.6430577Z",
              "session_start_time": null,
              "execution_start_time": "2023-03-16T00:44:27.6101345Z",
              "execution_finish_time": "2023-03-16T00:44:30.5034556Z",
              "spark_jobs": null,
              "parent_msg_id": "6b43a040-9b68-42ce-a0b6-a4ce8dbda1c6"
            },
            "text/plain": "StatementMeta(pool, 0, 87, Finished, Available)"
          },
          "metadata": {}
        }
      ],
      "execution_count": 87,
      "metadata": {
        "jupyter": {
          "source_hidden": false,
          "outputs_hidden": false
        },
        "nteract": {
          "transient": {
            "deleting": false
          }
        }
      }
    },
    {
      "cell_type": "markdown",
      "source": [
        "# Find Frauds"
      ],
      "metadata": {
        "nteract": {
          "transient": {
            "deleting": false
          }
        }
      }
    },
    {
      "cell_type": "code",
      "source": [
        "column_name = 'categoria'\r\n",
        "condition_column = 'valor'\r\n",
        "frauds_df = Fraud(transactions_df).create_fraud_df()"
      ],
      "outputs": [
        {
          "output_type": "display_data",
          "data": {
            "application/vnd.livy.statement-meta+json": {
              "spark_pool": "pool",
              "session_id": "0",
              "statement_id": 88,
              "state": "finished",
              "livy_statement_state": "available",
              "queued_time": "2023-03-16T00:44:25.7448612Z",
              "session_start_time": null,
              "execution_start_time": "2023-03-16T00:44:30.6437147Z",
              "execution_finish_time": "2023-03-16T00:44:30.8054436Z",
              "spark_jobs": null,
              "parent_msg_id": "674ab4f6-2f2c-46ee-b1f4-846479804ec3"
            },
            "text/plain": "StatementMeta(pool, 0, 88, Finished, Available)"
          },
          "metadata": {}
        }
      ],
      "execution_count": 88,
      "metadata": {
        "jupyter": {
          "source_hidden": false,
          "outputs_hidden": false
        },
        "nteract": {
          "transient": {
            "deleting": false
          }
        }
      }
    },
    {
      "cell_type": "markdown",
      "source": [
        "# ConnectionDB Class"
      ],
      "metadata": {
        "nteract": {
          "transient": {
            "deleting": false
          }
        }
      }
    },
    {
      "cell_type": "code",
      "source": [
        "import pandas as pd\r\n",
        "import pyodbc\r\n",
        "\r\n",
        "class ConnectionDB:\r\n",
        "    def __init__(self):\r\n",
        "        self.conn = None\r\n",
        "        self.cursor = None\r\n",
        "    \r\n",
        "    def connectToDatabase(self):\r\n",
        "        try:\r\n",
        "            self.conn = pyodbc.connect(\"Driver={ODBC Driver 18 for SQL Server};Server=tcp:projetosfinalserver.database.windows.net,1433;Database=ProjetoFinal;Uid=projetosfinalserver;Pwd={paamforgbwirj423r%};Encrypt=yes;TrustServerCertificate=no;Connection Timeout=30;\")\r\n",
        "            self.cursor = self.conn.cursor()\r\n",
        "            return  self.conn, self.cursor\r\n",
        "        \r\n",
        "        except Exception as e:\r\n",
        "            print(f\"Erro de conexão com banco: {e}\")\r\n",
        "    \r\n",
        "\r\n",
        "    def closeConnection(self):\r\n",
        "        self.cursor.close()\r\n",
        "        self.conn.close()\r\n",
        "\r\n",
        "\r\n",
        "    def create_clients_table(self):\r\n",
        "        conn, cursor = self.connectToDatabase()\r\n",
        "        try:\r\n",
        "            # Verifica se a tabela já existe\r\n",
        "            table_check_query = \"IF OBJECT_ID('dbo.clientess', 'U') IS NULL CREATE TABLE clientess (id INT PRIMARY KEY, nome VARCHAR(100), email VARCHAR(200), data_cadastro DATETIMEOFFSET, telefone VARCHAR(20));\"\r\n",
        "            cursor.execute(table_check_query)\r\n",
        "            conn.commit()\r\n",
        "\r\n",
        "            print(\"Tabela clientes criada com sucesso!\")\r\n",
        "        except Exception as e:\r\n",
        "            print(f\"Erro para criar a tabela clientes: {e}\")\r\n",
        "        finally:\r\n",
        "            self.closeConnection()\r\n",
        "\r\n",
        "\r\n",
        "    def insert_clients_data(self,df):\r\n",
        "        conn, cursor = self.connectToDatabase()\r\n",
        "        try:\r\n",
        "\r\n",
        "            # Loop através de cada linha no DataFrame\r\n",
        "            for index, linha in df.iterrows():\r\n",
        "                # Verifica se o registro já existe\r\n",
        "                check_query = \"SELECT COUNT(*) FROM clientess WHERE id = ?;\"\r\n",
        "                cursor.execute(check_query, linha[0])\r\n",
        "                result = cursor.fetchone()[0]\r\n",
        "                if result == 0:  # Se não existe, insere na tabela\r\n",
        "                    # Inserindo uma linha na tabela\r\n",
        "                    cursor.execute(\"INSERT INTO clientess ([id], [nome], [email], [data_cadastro], [telefone]) VALUES (?, ?, ?, CONVERT(DATETIMEOFFSET, ?, 127), ?);\", linha[0], linha[1], linha[2], linha[3], linha[4])\r\n",
        "                    conn.commit()\r\n",
        "                    print(f\"Registro com id={linha[0]} inserido com sucesso.\")\r\n",
        "                else:\r\n",
        "                    print(f\"Registro com id={linha[0]} já existe na tabela clientes. Não foi inserido novamente.\")\r\n",
        "\r\n",
        "        except Exception as e:\r\n",
        "            print(f\"Erro para inserir dados na tabela clientes: {e}\")\r\n",
        "        finally:\r\n",
        "            self.closeConnection()\r\n",
        "\r\n",
        "\r\n",
        "    def create_transactions_table(self):\r\n",
        "        conn, cursor = self.connectToDatabase()\r\n",
        "        try:\r\n",
        "            # Verifica se a tabela já existe\r\n",
        "            table_check_query = \"IF OBJECT_ID('dbo.transacoess', 'U') IS NULL CREATE TABLE transacoess (id INT PRIMARY KEY, cliente_id INT, valor INT, data DATETIMEOFFSET, tipo VARCHAR(45), fraude INT);\"\r\n",
        "            cursor.execute(table_check_query)\r\n",
        "            conn.commit()\r\n",
        "\r\n",
        "            print(\"Tabela transacoes criada com sucesso!\")\r\n",
        "        except Exception as e:\r\n",
        "            print(f\"Erro para criar a tabela transacoes: {e}\")\r\n",
        "        finally:\r\n",
        "            self.closeConnection()\r\n",
        "\r\n",
        "\r\n",
        "    def insert_transactions_data(self,df):\r\n",
        "        conn, cursor = self.connectToDatabase()\r\n",
        "        try: \r\n",
        "\r\n",
        "            # Loop através de cada linha no DataFrame\r\n",
        "            for index, linha in df.iterrows():\r\n",
        "                # Verifica se o registro já existe\r\n",
        "                check_query = \"SELECT COUNT(*) FROM transacoess WHERE id = ?;\"\r\n",
        "                cursor.execute(check_query, linha[0])\r\n",
        "                result = cursor.fetchone()[0]\r\n",
        "                if result == 0:  # Se não existe, insere na tabela\r\n",
        "                    # Inserindo uma linha na tabela\r\n",
        "                    cursor.execute(\"INSERT INTO transacoess ([id], [cliente_id], [valor], [data], [tipo], [fraude]) VALUES (?, ?, ?, CONVERT(DATETIMEOFFSET, ?, 127), ?, ?);\", linha[0], linha[1], linha[2], linha[3], linha[4], linha[5])\r\n",
        "                    conn.commit()\r\n",
        "                    print(f\"Registro com id={linha[0]} inserido com sucesso.\")\r\n",
        "                else:\r\n",
        "                    print(f\"Registro com id={linha[0]} já existe na tabela transacoes. Não foi inserido novamente.\")\r\n",
        "        except Exception as e:\r\n",
        "            print(f\"Erro para inserir dados na tabela transacoes: {e}\")\r\n",
        "        finally:\r\n",
        "            self.closeConnection()"
      ],
      "outputs": [
        {
          "output_type": "display_data",
          "data": {
            "application/vnd.livy.statement-meta+json": {
              "spark_pool": "pool",
              "session_id": "0",
              "statement_id": 89,
              "state": "finished",
              "livy_statement_state": "available",
              "queued_time": "2023-03-16T00:44:26.0544004Z",
              "session_start_time": null,
              "execution_start_time": "2023-03-16T00:44:30.99318Z",
              "execution_finish_time": "2023-03-16T00:44:31.1561165Z",
              "spark_jobs": null,
              "parent_msg_id": "31c3ced1-eb63-42c8-b00a-c259a714178d"
            },
            "text/plain": "StatementMeta(pool, 0, 89, Finished, Available)"
          },
          "metadata": {}
        }
      ],
      "execution_count": 89,
      "metadata": {
        "jupyter": {
          "source_hidden": false,
          "outputs_hidden": false
        },
        "nteract": {
          "transient": {
            "deleting": false
          }
        }
      }
    },
    {
      "cell_type": "markdown",
      "source": [
        "# Connection on databse and creating tables"
      ],
      "metadata": {
        "nteract": {
          "transient": {
            "deleting": false
          }
        }
      }
    },
    {
      "cell_type": "code",
      "source": [
        "df_c = clients_df.toPandas()\r\n",
        "df_f = frauds_df.toPandas()\r\n",
        "\r\n",
        "conexao = ConnectionDB()\r\n",
        "conexao.create_clients_table()\r\n",
        "conexao.insert_clients_data(df_c)\r\n",
        "conexao.create_transactions_table()\r\n",
        "            \r\n",
        "conexao.insert_transactions_data(df_f)"
      ],
      "outputs": [
        {
          "output_type": "display_data",
          "data": {
            "application/vnd.livy.statement-meta+json": {
              "spark_pool": "pool",
              "session_id": "0",
              "statement_id": 90,
              "state": "finished",
              "livy_statement_state": "available",
              "queued_time": "2023-03-16T00:44:26.122207Z",
              "session_start_time": null,
              "execution_start_time": "2023-03-16T00:44:31.3610194Z",
              "execution_finish_time": "2023-03-16T00:44:42.2571507Z",
              "spark_jobs": null,
              "parent_msg_id": "e3f34550-c6a8-4970-be8f-f32d1f05daa9"
            },
            "text/plain": "StatementMeta(pool, 0, 90, Finished, Available)"
          },
          "metadata": {}
        },
        {
          "output_type": "stream",
          "name": "stdout",
          "text": [
            "Tabela clientes criada com sucesso!\nRegistro com id=55 inserido com sucesso.\nRegistro com id=78 inserido com sucesso.\nRegistro com id=61 inserido com sucesso.\nRegistro com id=106 inserido com sucesso.\nRegistro com id=107 inserido com sucesso.\nRegistro com id=108 inserido com sucesso.\nRegistro com id=109 inserido com sucesso.\nRegistro com id=142 inserido com sucesso.\nRegistro com id=144 inserido com sucesso.\nRegistro com id=145 inserido com sucesso.\nRegistro com id=146 inserido com sucesso.\nRegistro com id=88 inserido com sucesso.\nRegistro com id=159 inserido com sucesso.\nRegistro com id=150 inserido com sucesso.\nRegistro com id=248 inserido com sucesso.\nRegistro com id=156 inserido com sucesso.\nRegistro com id=157 inserido com sucesso.\nRegistro com id=160 inserido com sucesso.\nRegistro com id=152 inserido com sucesso.\nRegistro com id=153 inserido com sucesso.\nRegistro com id=31 inserido com sucesso.\nRegistro com id=199 inserido com sucesso.\nRegistro com id=200 inserido com sucesso.\nRegistro com id=201 inserido com sucesso.\nRegistro com id=202 inserido com sucesso.\nRegistro com id=210 inserido com sucesso.\nRegistro com id=161 inserido com sucesso.\nRegistro com id=204 inserido com sucesso.\nRegistro com id=208 inserido com sucesso.\nRegistro com id=209 inserido com sucesso.\nRegistro com id=203 inserido com sucesso.\nRegistro com id=207 inserido com sucesso.\nRegistro com id=27 inserido com sucesso.\nRegistro com id=163 inserido com sucesso.\nRegistro com id=148 inserido com sucesso.\nRegistro com id=149 inserido com sucesso.\nRegistro com id=197 inserido com sucesso.\nRegistro com id=44 inserido com sucesso.\nRegistro com id=333 inserido com sucesso.\nRegistro com id=143 inserido com sucesso.\nRegistro com id=32 inserido com sucesso.\nRegistro com id=245 inserido com sucesso.\nRegistro com id=247 inserido com sucesso.\nRegistro com id=98 inserido com sucesso.\nRegistro com id=259 inserido com sucesso.\nRegistro com id=261 inserido com sucesso.\nRegistro com id=256 inserido com sucesso.\nRegistro com id=255 inserido com sucesso.\nRegistro com id=257 inserido com sucesso.\nRegistro com id=260 inserido com sucesso.\nRegistro com id=266 inserido com sucesso.\nRegistro com id=268 inserido com sucesso.\nRegistro com id=265 inserido com sucesso.\nRegistro com id=258 inserido com sucesso.\nRegistro com id=263 inserido com sucesso.\nRegistro com id=269 inserido com sucesso.\nRegistro com id=334 inserido com sucesso.\nRegistro com id=147 inserido com sucesso.\nRegistro com id=386 inserido com sucesso.\nRegistro com id=391 inserido com sucesso.\nRegistro com id=448 inserido com sucesso.\nRegistro com id=368 inserido com sucesso.\nRegistro com id=433 inserido com sucesso.\nRegistro com id=387 inserido com sucesso.\nRegistro com id=455 inserido com sucesso.\nRegistro com id=393 inserido com sucesso.\nRegistro com id=395 inserido com sucesso.\nRegistro com id=14 inserido com sucesso.\nRegistro com id=11 inserido com sucesso.\nRegistro com id=434 inserido com sucesso.\nRegistro com id=388 inserido com sucesso.\nRegistro com id=439 inserido com sucesso.\nRegistro com id=385 inserido com sucesso.\nRegistro com id=447 inserido com sucesso.\nRegistro com id=381 inserido com sucesso.\nRegistro com id=435 inserido com sucesso.\nRegistro com id=369 inserido com sucesso.\nRegistro com id=445 inserido com sucesso.\nRegistro com id=394 inserido com sucesso.\nRegistro com id=437 inserido com sucesso.\nRegistro com id=430 inserido com sucesso.\nRegistro com id=298 inserido com sucesso.\nRegistro com id=397 inserido com sucesso.\nRegistro com id=87 inserido com sucesso.\nRegistro com id=516 inserido com sucesso.\nRegistro com id=9 inserido com sucesso.\nRegistro com id=20 inserido com sucesso.\nRegistro com id=155 inserido com sucesso.\nRegistro com id=267 inserido com sucesso.\nRegistro com id=454 inserido com sucesso.\nRegistro com id=451 inserido com sucesso.\nRegistro com id=453 inserido com sucesso.\nRegistro com id=449 inserido com sucesso.\nRegistro com id=490 inserido com sucesso.\nRegistro com id=499 inserido com sucesso.\nRegistro com id=491 inserido com sucesso.\nRegistro com id=493 inserido com sucesso.\nRegistro com id=496 inserido com sucesso.\nRegistro com id=505 inserido com sucesso.\nRegistro com id=494 inserido com sucesso.\nRegistro com id=492 inserido com sucesso.\nRegistro com id=670 inserido com sucesso.\nRegistro com id=718 inserido com sucesso.\nRegistro com id=705 inserido com sucesso.\nRegistro com id=715 inserido com sucesso.\nRegistro com id=702 inserido com sucesso.\nRegistro com id=695 inserido com sucesso.\nRegistro com id=700 inserido com sucesso.\nRegistro com id=725 inserido com sucesso.\nRegistro com id=667 inserido com sucesso.\nRegistro com id=721 inserido com sucesso.\nRegistro com id=673 inserido com sucesso.\nRegistro com id=693 inserido com sucesso.\nRegistro com id=706 inserido com sucesso.\nRegistro com id=727 inserido com sucesso.\nRegistro com id=728 inserido com sucesso.\nRegistro com id=736 inserido com sucesso.\nRegistro com id=719 inserido com sucesso.\nRegistro com id=724 inserido com sucesso.\nRegistro com id=777 inserido com sucesso.\nRegistro com id=731 inserido com sucesso.\nRegistro com id=300 inserido com sucesso.\nRegistro com id=262 inserido com sucesso.\nRegistro com id=735 inserido com sucesso.\nRegistro com id=729 inserido com sucesso.\nRegistro com id=733 inserido com sucesso.\nRegistro com id=738 inserido com sucesso.\nRegistro com id=739 inserido com sucesso.\nRegistro com id=205 inserido com sucesso.\nRegistro com id=741 inserido com sucesso.\nRegistro com id=154 inserido com sucesso.\nRegistro com id=742 inserido com sucesso.\nRegistro com id=743 inserido com sucesso.\nRegistro com id=776 inserido com sucesso.\nRegistro com id=730 inserido com sucesso.\nRegistro com id=707 inserido com sucesso.\nRegistro com id=734 inserido com sucesso.\nRegistro com id=740 inserido com sucesso.\nRegistro com id=732 inserido com sucesso.\nRegistro com id=444 inserido com sucesso.\nRegistro com id=97 inserido com sucesso.\nRegistro com id=198 inserido com sucesso.\nRegistro com id=778 inserido com sucesso.\nRegistro com id=390 inserido com sucesso.\nRegistro com id=786 inserido com sucesso.\nRegistro com id=779 inserido com sucesso.\nRegistro com id=828 inserido com sucesso.\nRegistro com id=781 inserido com sucesso.\nRegistro com id=787 inserido com sucesso.\nRegistro com id=869 inserido com sucesso.\nRegistro com id=785 inserido com sucesso.\nRegistro com id=780 inserido com sucesso.\nRegistro com id=782 inserido com sucesso.\nRegistro com id=783 inserido com sucesso.\nRegistro com id=832 inserido com sucesso.\nRegistro com id=867 inserido com sucesso.\nRegistro com id=831 inserido com sucesso.\nRegistro com id=829 inserido com sucesso.\nRegistro com id=789 inserido com sucesso.\nRegistro com id=793 inserido com sucesso.\nRegistro com id=830 inserido com sucesso.\nRegistro com id=826 inserido com sucesso.\nRegistro com id=502 inserido com sucesso.\nRegistro com id=495 inserido com sucesso.\nRegistro com id=518 inserido com sucesso.\nRegistro com id=211 inserido com sucesso.\nRegistro com id=833 inserido com sucesso.\nRegistro com id=834 inserido com sucesso.\nRegistro com id=868 inserido com sucesso.\nRegistro com id=737 inserido com sucesso.\nRegistro com id=870 inserido com sucesso.\nRegistro com id=788 inserido com sucesso.\nRegistro com id=784 inserido com sucesso.\nRegistro com id=790 inserido com sucesso.\nRegistro com id=84 inserido com sucesso.\nRegistro com id=792 inserido com sucesso.\nRegistro com id=827 inserido com sucesso.\nRegistro com id=450 inserido com sucesso.\nRegistro com id=1 inserido com sucesso.\nRegistro com id=906 inserido com sucesso.\nRegistro com id=570 inserido com sucesso.\nRegistro com id=873 inserido com sucesso.\nRegistro com id=93 inserido com sucesso.\nRegistro com id=791 inserido com sucesso.\nRegistro com id=576 inserido com sucesso.\nRegistro com id=578 inserido com sucesso.\nRegistro com id=908 inserido com sucesso.\nRegistro com id=575 inserido com sucesso.\nRegistro com id=526 inserido com sucesso.\nRegistro com id=7 inserido com sucesso.\nRegistro com id=39 inserido com sucesso.\nRegistro com id=527 inserido com sucesso.\nRegistro com id=871 inserido com sucesso.\nRegistro com id=573 inserido com sucesso.\nRegistro com id=529 inserido com sucesso.\nRegistro com id=212 inserido com sucesso.\nRegistro com id=79 inserido com sucesso.\nRegistro com id=567 inserido com sucesso.\nRegistro com id=95 inserido com sucesso.\nRegistro com id=67 inserido com sucesso.\nRegistro com id=909 inserido com sucesso.\nRegistro com id=530 inserido com sucesso.\nRegistro com id=641 inserido com sucesso.\nRegistro com id=94 inserido com sucesso.\nRegistro com id=584 inserido com sucesso.\nRegistro com id=580 inserido com sucesso.\nRegistro com id=21 inserido com sucesso.\nRegistro com id=582 inserido com sucesso.\nRegistro com id=586 inserido com sucesso.\nRegistro com id=151 inserido com sucesso.\nRegistro com id=83 inserido com sucesso.\nRegistro com id=587 inserido com sucesso.\nRegistro com id=585 inserido com sucesso.\nRegistro com id=534 inserido com sucesso.\nRegistro com id=639 inserido com sucesso.\nRegistro com id=528 inserido com sucesso.\nRegistro com id=636 inserido com sucesso.\nRegistro com id=626 inserido com sucesso.\nRegistro com id=627 inserido com sucesso.\nRegistro com id=637 inserido com sucesso.\nRegistro com id=635 inserido com sucesso.\nRegistro com id=638 inserido com sucesso.\nRegistro com id=643 inserido com sucesso.\nRegistro com id=640 inserido com sucesso.\nRegistro com id=642 inserido com sucesso.\nRegistro com id=579 inserido com sucesso.\nRegistro com id=581 inserido com sucesso.\nRegistro com id=583 inserido com sucesso.\nRegistro com id=531 inserido com sucesso.\nRegistro com id=5 inserido com sucesso.\nRegistro com id=74 inserido com sucesso.\nRegistro com id=253 inserido com sucesso.\nRegistro com id=649 inserido com sucesso.\nRegistro com id=653 inserido com sucesso.\nRegistro com id=663 inserido com sucesso.\nRegistro com id=654 inserido com sucesso.\nRegistro com id=651 inserido com sucesso.\nRegistro com id=644 inserido com sucesso.\nRegistro com id=371 inserido com sucesso.\nRegistro com id=645 inserido com sucesso.\nRegistro com id=646 inserido com sucesso.\nRegistro com id=650 inserido com sucesso.\nRegistro com id=648 inserido com sucesso.\nRegistro com id=661 inserido com sucesso.\nRegistro com id=657 inserido com sucesso.\nRegistro com id=674 inserido com sucesso.\nRegistro com id=658 inserido com sucesso.\nRegistro com id=652 inserido com sucesso.\nRegistro com id=662 inserido com sucesso.\nRegistro com id=660 inserido com sucesso.\nRegistro com id=675 inserido com sucesso.\nRegistro com id=676 inserido com sucesso.\nRegistro com id=677 inserido com sucesso.\nRegistro com id=678 inserido com sucesso.\nRegistro com id=664 inserido com sucesso.\nRegistro com id=680 inserido com sucesso.\nRegistro com id=647 inserido com sucesso.\nRegistro com id=659 inserido com sucesso.\nRegistro com id=655 inserido com sucesso.\nRegistro com id=679 inserido com sucesso.\nRegistro com id=665 inserido com sucesso.\nRegistro com id=684 inserido com sucesso.\nRegistro com id=681 inserido com sucesso.\nRegistro com id=671 inserido com sucesso.\nRegistro com id=682 inserido com sucesso.\nRegistro com id=672 inserido com sucesso.\nRegistro com id=86 inserido com sucesso.\nRegistro com id=666 inserido com sucesso.\nRegistro com id=656 inserido com sucesso.\nRegistro com id=686 inserido com sucesso.\nRegistro com id=698 inserido com sucesso.\nRegistro com id=701 inserido com sucesso.\nRegistro com id=696 inserido com sucesso.\nRegistro com id=690 inserido com sucesso.\nRegistro com id=691 inserido com sucesso.\nRegistro com id=685 inserido com sucesso.\nRegistro com id=683 inserido com sucesso.\nRegistro com id=712 inserido com sucesso.\nRegistro com id=687 inserido com sucesso.\nRegistro com id=704 inserido com sucesso.\nRegistro com id=694 inserido com sucesso.\nRegistro com id=697 inserido com sucesso.\nRegistro com id=443 inserido com sucesso.\nRegistro com id=708 inserido com sucesso.\nRegistro com id=714 inserido com sucesso.\nRegistro com id=722 inserido com sucesso.\nRegistro com id=699 inserido com sucesso.\nRegistro com id=726 inserido com sucesso.\nRegistro com id=710 inserido com sucesso.\nRegistro com id=717 inserido com sucesso.\nRegistro com id=703 inserido com sucesso.\nRegistro com id=713 inserido com sucesso.\nRegistro com id=689 inserido com sucesso.\nRegistro com id=711 inserido com sucesso.\nRegistro com id=625 inserido com sucesso.\nRegistro com id=668 inserido com sucesso.\nRegistro com id=716 inserido com sucesso.\nRegistro com id=709 inserido com sucesso.\nRegistro com id=723 inserido com sucesso.\nRegistro com id=669 inserido com sucesso.\nRegistro com id=692 inserido com sucesso.\nRegistro com id=688 inserido com sucesso.\nRegistro com id=720 inserido com sucesso.\nRegistro com id=568 inserido com sucesso.\nRegistro com id=158 inserido com sucesso.\nRegistro com id=80 inserido com sucesso.\nRegistro com id=162 inserido com sucesso.\nRegistro com id=196 inserido com sucesso.\nRegistro com id=396 inserido com sucesso.\nRegistro com id=520 inserido com sucesso.\nRegistro com id=254 inserido com sucesso.\nRegistro com id=52 inserido com sucesso.\nRegistro com id=58 inserido com sucesso.\nRegistro com id=571 inserido com sucesso.\nRegistro com id=335 inserido com sucesso.\nRegistro com id=284 inserido com sucesso.\nRegistro com id=264 inserido com sucesso.\nRegistro com id=522 inserido com sucesso.\nRegistro com id=206 inserido com sucesso.\nRegistro com id=441 inserido com sucesso.\nRegistro com id=569 inserido com sucesso.\nRegistro com id=389 inserido com sucesso.\nRegistro com id=521 inserido com sucesso.\nRegistro com id=533 inserido com sucesso.\nRegistro com id=442 inserido com sucesso.\nRegistro com id=73 inserido com sucesso.\nRegistro com id=872 inserido com sucesso.\nRegistro com id=907 inserido com sucesso.\nRegistro com id=523 inserido com sucesso.\nRegistro com id=53 inserido com sucesso.\nRegistro com id=54 inserido com sucesso.\nRegistro com id=501 inserido com sucesso.\nRegistro com id=299 inserido com sucesso.\nRegistro com id=6 inserido com sucesso.\nRegistro com id=436 inserido com sucesso.\nRegistro com id=13 inserido com sucesso.\nRegistro com id=8 inserido com sucesso.\nRegistro com id=488 inserido com sucesso.\nRegistro com id=438 inserido com sucesso.\nRegistro com id=30 inserido com sucesso.\nRegistro com id=15 inserido com sucesso.\nRegistro com id=36 inserido com sucesso.\nRegistro com id=59 inserido com sucesso.\nRegistro com id=524 inserido com sucesso.\nRegistro com id=24 inserido com sucesso.\nRegistro com id=19 inserido com sucesso.\nRegistro com id=22 inserido com sucesso.\nRegistro com id=28 inserido com sucesso.\nRegistro com id=33 inserido com sucesso.\nRegistro com id=34 inserido com sucesso.\nRegistro com id=23 inserido com sucesso.\nRegistro com id=249 inserido com sucesso.\nRegistro com id=18 inserido com sucesso.\nRegistro com id=29 inserido com sucesso.\nRegistro com id=35 inserido com sucesso.\nRegistro com id=25 inserido com sucesso.\nRegistro com id=3 inserido com sucesso.\nRegistro com id=250 inserido com sucesso.\nRegistro com id=252 inserido com sucesso.\nRegistro com id=37 inserido com sucesso.\nRegistro com id=12 inserido com sucesso.\nRegistro com id=57 inserido com sucesso.\nRegistro com id=440 inserido com sucesso.\nRegistro com id=42 inserido com sucesso.\nRegistro com id=70 inserido com sucesso.\nRegistro com id=64 inserido com sucesso.\nRegistro com id=62 inserido com sucesso.\nRegistro com id=38 inserido com sucesso.\nRegistro com id=16 inserido com sucesso.\nRegistro com id=49 inserido com sucesso.\nRegistro com id=71 inserido com sucesso.\nRegistro com id=48 inserido com sucesso.\nRegistro com id=65 inserido com sucesso.\nRegistro com id=66 inserido com sucesso.\nRegistro com id=68 inserido com sucesso.\nRegistro com id=69 inserido com sucesso.\nRegistro com id=251 inserido com sucesso.\nRegistro com id=506 inserido com sucesso.\nRegistro com id=47 inserido com sucesso.\nRegistro com id=50 inserido com sucesso.\nRegistro com id=63 inserido com sucesso.\nRegistro com id=51 inserido com sucesso.\nRegistro com id=89 inserido com sucesso.\nRegistro com id=17 inserido com sucesso.\nRegistro com id=105 inserido com sucesso.\nRegistro com id=75 inserido com sucesso.\nRegistro com id=99 inserido com sucesso.\nRegistro com id=76 inserido com sucesso.\nRegistro com id=92 inserido com sucesso.\nRegistro com id=100 inserido com sucesso.\nRegistro com id=103 inserido com sucesso.\nRegistro com id=246 inserido com sucesso.\nRegistro com id=432 inserido com sucesso.\nRegistro com id=26 inserido com sucesso.\nRegistro com id=60 inserido com sucesso.\nRegistro com id=81 inserido com sucesso.\nRegistro com id=77 inserido com sucesso.\nRegistro com id=85 inserido com sucesso.\nRegistro com id=446 inserido com sucesso.\nRegistro com id=452 inserido com sucesso.\nRegistro com id=101 inserido com sucesso.\nRegistro com id=102 inserido com sucesso.\nRegistro com id=489 inserido com sucesso.\nRegistro com id=104 inserido com sucesso.\nTabela transacoes criada com sucesso!\nErro para inserir dados na tabela transacoes: ('22018', \"[22018] [Microsoft][ODBC Driver 18 for SQL Server][SQL Server]Conversion failed when converting the nvarchar value 'saida' to data type int. (245) (SQLExecDirectW)\")\n"
          ]
        }
      ],
      "execution_count": 90,
      "metadata": {
        "jupyter": {
          "source_hidden": false,
          "outputs_hidden": false
        },
        "nteract": {
          "transient": {
            "deleting": false
          }
        }
      }
    },
    {
      "cell_type": "markdown",
      "source": [
        "# End Spark Session"
      ],
      "metadata": {
        "nteract": {
          "transient": {
            "deleting": false
          }
        }
      }
    },
    {
      "cell_type": "code",
      "source": [
        "spark.stop()"
      ],
      "outputs": [
        {
          "output_type": "display_data",
          "data": {
            "application/vnd.livy.statement-meta+json": {
              "spark_pool": "pool",
              "session_id": "0",
              "statement_id": 91,
              "state": "finished",
              "livy_statement_state": "available",
              "queued_time": "2023-03-16T00:44:26.2999458Z",
              "session_start_time": null,
              "execution_start_time": "2023-03-16T00:44:42.3966943Z",
              "execution_finish_time": "2023-03-16T00:44:43.5755199Z",
              "spark_jobs": null,
              "parent_msg_id": "f2727358-c0d1-4607-9b23-4a44f7bc5cc1"
            },
            "text/plain": "StatementMeta(pool, 0, 91, Finished, Available)"
          },
          "metadata": {}
        }
      ],
      "execution_count": 91,
      "metadata": {
        "jupyter": {
          "source_hidden": false,
          "outputs_hidden": false
        },
        "nteract": {
          "transient": {
            "deleting": false
          }
        }
      }
    },
    {
      "cell_type": "markdown",
      "source": [
        "spark.stop()"
      ],
      "metadata": {
        "nteract": {
          "transient": {
            "deleting": false
          }
        }
      }
    }
  ],
  "metadata": {
    "kernelspec": {
      "name": "synapse_pyspark",
      "language": "Python",
      "display_name": "Synapse PySpark"
    },
    "language_info": {
      "name": "python"
    },
    "kernel_info": {
      "name": "synapse_pyspark"
    },
    "description": "",
    "save_output": true,
    "synapse_widget": {
      "version": "0.1",
      "state": {}
    }
  },
  "nbformat": 4,
  "nbformat_minor": 2
}